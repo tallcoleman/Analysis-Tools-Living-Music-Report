{
 "cells": [
  {
   "cell_type": "markdown",
   "metadata": {},
   "source": [
    "# Analysis of Living Music Report (Australia)\n",
    "\n",
    "Imports and compiles data tables from the Living Music Report data folders from github. You will need to specify a path to the data folders for the \"Import\" section.\n",
    "\n",
    "Source: [ciaranframe/livingmusicreport](https://github.com/ciaranframe/livingmusicreport)"
   ]
  },
  {
   "cell_type": "markdown",
   "metadata": {},
   "source": [
    "## Initialization"
   ]
  },
  {
   "cell_type": "code",
   "execution_count": 80,
   "metadata": {},
   "outputs": [],
   "source": [
    "import pandas as pd\n",
    "import numpy as np\n",
    "from pathlib import Path"
   ]
  },
  {
   "cell_type": "markdown",
   "metadata": {},
   "source": [
    "## Options\n",
    "\n",
    "To fix encoding errors:\n",
    "\n",
    "1. Run the script with `generate_error_list = True`\n",
    "2. Save the error list csv with a different filename and manually enter corrected values (you can set `generate_error_list` to `False`\n",
    "3. Enter the path to the completed error list in the options below and run the script again"
   ]
  },
  {
   "cell_type": "code",
   "execution_count": 121,
   "metadata": {},
   "outputs": [],
   "source": [
    "# convert YYYY-MM dates to YYYY-MM-DD with addition of '-01'\n",
    "convert_dates = True\n",
    "\n",
    "# generate blank error list (usually used first time only)\n",
    "generate_error_list = False\n",
    "\n",
    "# import error list (should be pathlib Path object; leave blank if false)\n",
    "p_fix_list = Path((\"error_list_with_corrections.csv\"))"
   ]
  },
  {
   "cell_type": "markdown",
   "metadata": {},
   "source": [
    "## Import and Consolidation\n",
    "\n",
    "Orchestra Name (table) > Series (table, multi) > Repertoire\n",
    "\n",
    "Season can be pulled from SeriesID\n",
    "Add Program Position when adding in repertoire"
   ]
  },
  {
   "cell_type": "code",
   "execution_count": 97,
   "metadata": {},
   "outputs": [],
   "source": [
    "# note: enter full path to data folders if they are not in the same folder as this notebook\n",
    "data_folder = (\"LMR/\") "
   ]
  },
  {
   "cell_type": "code",
   "execution_count": 115,
   "metadata": {
    "tags": []
   },
   "outputs": [],
   "source": [
    "# Combine all the data into one table\n",
    "\n",
    "encoding_choice = \"utf-8\"\n",
    "p = Path(data_folder)\n",
    "table_list = []\n",
    "\n",
    "# Names Table\n",
    "p_orchestra_names = p / \"MPAsummary.csv\"\n",
    "df_orchestra_names = pd.read_csv(p_orchestra_names)\n",
    "\n",
    "for p_orchestra in [x for x in p.iterdir() if x.is_dir()]:\n",
    "    for p_series in p_orchestra.glob(\"*.csv\"):\n",
    "        # Series Table\n",
    "        df_series = pd.read_csv(p_series, encoding=\"UTF-8\", encoding_errors=\"replace\")\n",
    "        series_orchestra_id = p_series.parts[-2]\n",
    "        series_season_year = p_series.name[len(series_orchestra_id):len(series_orchestra_id)+4]\n",
    "        df_series = df_series.assign(MPAinit = series_orchestra_id, SeasonYear = series_season_year)\n",
    "        \n",
    "        p_replist_collection = p_orchestra / p_series.name[0:-len(\"summary.csv\")]\n",
    "        for p_replist in p_replist_collection.glob(\"*.csv\"):\n",
    "            # Repertoire List Table\n",
    "            df_replist = (pd.read_csv(p_replist, encoding=\"UTF-8\", encoding_errors=\"replace\")\n",
    "                          .assign(SeriesID = p_replist.stem))\n",
    "            df_replist['ProgramPosition'] = list(range(1,1+len(df_replist)))\n",
    "            # Push table to running list\n",
    "            table_list.append((df_replist.join(df_series.set_index(\"SeriesID\"), on=\"SeriesID\")\n",
    "                               .join(df_orchestra_names.set_index(\"MPAinit\"), on=\"MPAinit\")))\n",
    "            \n",
    "\n",
    "# stitch the tables together\n",
    "df_consolidated = pd.concat(table_list, ignore_index=True)"
   ]
  },
  {
   "cell_type": "markdown",
   "metadata": {},
   "source": [
    "## Fixing Errors"
   ]
  },
  {
   "cell_type": "code",
   "execution_count": 101,
   "metadata": {},
   "outputs": [],
   "source": [
    "# generate an error list\n",
    "if generate_error_list:\n",
    "    errors_present = df_consolidated.applymap(lambda x: u\"\\uFFFD\" in str(x))\n",
    "    error_list = df_consolidated.to_numpy().flatten()[errors_present.to_numpy().flatten()]\n",
    "    df_error_list = pd.DataFrame(np.unique(error_list), columns=['Value'])\n",
    "    df_error_list['Replacement'] = np.nan\n",
    "    df_error_list.to_csv('error_list.csv',index=False)"
   ]
  },
  {
   "cell_type": "code",
   "execution_count": 116,
   "metadata": {},
   "outputs": [],
   "source": [
    "# Fixing Encoding Errors - Mostly works, though several errors still don't get matched\n",
    "# uses the error list imported in options\n",
    "if p_fix_list.exists():\n",
    "    df_fix_list = pd.read_csv(p_fix_list, encoding=\"UTF-8\", encoding_errors=\"replace\")\n",
    "    dict_fix_list = dict(zip(df_fix_list['Value'], df_fix_list['Replacement']))\n",
    "    df_consolidated = df_consolidated.replace(dict_fix_list)"
   ]
  },
  {
   "cell_type": "code",
   "execution_count": 119,
   "metadata": {},
   "outputs": [],
   "source": [
    "# Fixing blank rows\n",
    "df_consolidated = df_consolidated.dropna(subset=['CompName'])\n",
    "\n",
    "# Format series date\n",
    "if convert_dates:\n",
    "    df_consolidated['SeriesDate'] = df_consolidated['SeriesDate'].map(lambda x: str(x) + \"-01\")"
   ]
  },
  {
   "cell_type": "markdown",
   "metadata": {},
   "source": [
    "## Export"
   ]
  },
  {
   "cell_type": "code",
   "execution_count": 120,
   "metadata": {},
   "outputs": [],
   "source": [
    "df_consolidated.to_csv('LMRConsolidated.csv',index=False)"
   ]
  }
 ],
 "metadata": {
  "kernelspec": {
   "display_name": "Python 3.9.10 64-bit",
   "language": "python",
   "name": "python3"
  },
  "language_info": {
   "codemirror_mode": {
    "name": "ipython",
    "version": 3
   },
   "file_extension": ".py",
   "mimetype": "text/x-python",
   "name": "python",
   "nbconvert_exporter": "python",
   "pygments_lexer": "ipython3",
   "version": "3.9.10"
  },
  "vscode": {
   "interpreter": {
    "hash": "aee8b7b246df8f9039afb4144a1f6fd8d2ca17a180786b69acc140d282b71a49"
   }
  }
 },
 "nbformat": 4,
 "nbformat_minor": 4
}
